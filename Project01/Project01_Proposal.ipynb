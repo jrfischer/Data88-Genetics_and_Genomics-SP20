{
 "cells": [
  {
   "cell_type": "markdown",
   "metadata": {},
   "source": [
    "# Project Part 1 -- Analysis Proposal"
   ]
  },
  {
   "cell_type": "markdown",
   "metadata": {},
   "source": [
    "As I've mentioned previously, we're going to be doing a modified version of the final project due to our change in circumstances. It will be split into two components--this, the first, asks you to devise a sample analysis plan based on a hypothetical scenario. The second will ask you to write a summary of the results of a different analysis which are provided to you.\n",
    "\n",
    "To ensure you get feedback prior to the final submission of these components, initial drafts of both parts of the project will be due on Monday, April 20th at 11:59 PM. Your drafts will be graded on effort rather than correctness, and I'll provide feedback based on your responses. You'll then have until the final submission deadline of Sunday, May 3rd at 11:59 PM to submit updated responses.\n",
    "\n",
    "You shouldn't need to code at all to complete these assignments. It will undoubtedly help to review old labs and readings to determine your plan."
   ]
  },
  {
   "cell_type": "code",
   "execution_count": null,
   "metadata": {},
   "outputs": [],
   "source": [
    "from client.api.notebook import Notebook"
   ]
  },
  {
   "cell_type": "markdown",
   "metadata": {},
   "source": [
    "## Setting"
   ]
  },
  {
   "cell_type": "markdown",
   "metadata": {},
   "source": [
    "Suppose you are a researcher working for the World Health Organization. A new liver disease has recently emerged, and governments have come together to sponsor a pilot study to investigate what we can learn from comparing gene expression measurements from healthy and sick individuals. Sufficient funds have been allocated to collect and sequence 120 samples. You have been tasked with developing the collection and analysis plan for this pilot study. Complete the sections below to describe how you propose to proceed."
   ]
  },
  {
   "cell_type": "markdown",
   "metadata": {},
   "source": [
    "## Sample collection\n",
    "### What breakdown of samples do you propose we collect? (I.e., number of healthy/sick, what experimental protocol to use, etc)\n",
    "\n",
    "#### Answer:"
   ]
  },
  {
   "cell_type": "markdown",
   "metadata": {},
   "source": [
    "## Data cleaning and pre-processing\n",
    "### What steps do you think are necessary to prepare the data for downstream analyses?\n",
    "\n",
    "#### Answer:"
   ]
  },
  {
   "cell_type": "markdown",
   "metadata": {},
   "source": [
    "## EDA and data visualization\n",
    "### What preliminary and exploratory analyses would you perform? What figures would you generate?\n",
    "\n",
    "#### Answer:"
   ]
  },
  {
   "cell_type": "markdown",
   "metadata": {},
   "source": [
    "## Analysis\n",
    "### How would you identify whether healthy/sick samples are distinguishable? How would you ascertain which genes, if any, have differences in expression levels associated with disease status? Be sure to mention the specific analyses and steps you would perform.\n",
    "\n",
    "#### Answer:"
   ]
  },
  {
   "cell_type": "code",
   "execution_count": null,
   "metadata": {},
   "outputs": [],
   "source": [
    "ok = Notebook('proj_pt_1.ok')\n",
    "_ = ok.auth(inline=True)"
   ]
  },
  {
   "cell_type": "code",
   "execution_count": null,
   "metadata": {},
   "outputs": [],
   "source": [
    "# Submit the assignment\n",
    "_ = ok.submit()"
   ]
  }
 ],
 "metadata": {
  "kernelspec": {
   "display_name": "Python 3",
   "language": "python",
   "name": "python3"
  },
  "language_info": {
   "codemirror_mode": {
    "name": "ipython",
    "version": 3
   },
   "file_extension": ".py",
   "mimetype": "text/x-python",
   "name": "python",
   "nbconvert_exporter": "python",
   "pygments_lexer": "ipython3",
   "version": "3.6.9"
  }
 },
 "nbformat": 4,
 "nbformat_minor": 4
}
