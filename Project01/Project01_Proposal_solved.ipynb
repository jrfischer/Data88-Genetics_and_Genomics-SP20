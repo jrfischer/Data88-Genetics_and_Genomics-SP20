{
 "cells": [
  {
   "cell_type": "markdown",
   "metadata": {},
   "source": [
    "# Project Part 1 -- Analysis Proposal"
   ]
  },
  {
   "cell_type": "markdown",
   "metadata": {},
   "source": [
    "As I've mentioned previously, we're going to be doing a modified version of the final project due to our change in circumstances. It will be split into two components--this, the first, asks you to devise a sample analysis plan based on a hypothetical scenario. The second will ask you to write a summary of the results of a different analysis which are provided to you.\n",
    "\n",
    "To ensure you get feedback prior to the final submission of these components, initial drafts of both parts of the project will be due on Monday, April 20th at 11:59 PM. Your drafts will be graded on effort rather than correctness, and I'll provide feedback based on your responses. You'll then have until the final submission deadline of Sunday, May 3rd at 11:59 PM to submit updated responses.\n",
    "\n",
    "You shouldn't need to code at all to complete these assignments. It will undoubtedly help to review old labs and readings to determine your plan."
   ]
  },
  {
   "cell_type": "code",
   "execution_count": 1,
   "metadata": {},
   "outputs": [],
   "source": [
    "from client.api.notebook import Notebook"
   ]
  },
  {
   "cell_type": "markdown",
   "metadata": {},
   "source": [
    "## Setting"
   ]
  },
  {
   "cell_type": "markdown",
   "metadata": {},
   "source": [
    "Suppose you are a researcher working for the World Health Organization. A new liver disease has recently emerged, and governments have come together to sponsor a pilot study to investigate what we can learn from comparing gene expression measurements from healthy and sick individuals. Sufficient funds have been allocated to collect and sequence 120 samples. You have been tasked with developing the collection and analysis plan for this pilot study. Complete the sections below to describe how you propose to proceed."
   ]
  },
  {
   "cell_type": "markdown",
   "metadata": {},
   "source": [
    "## Sample collection\n",
    "### What breakdown of samples do you propose we collect? (I.e., number of healthy/sick, what experimental protocol to use, etc)\n",
    "\n",
    "#### Answer: To maximize our statistical power, it probably makes the most sense to collect samples from 60 healthy individuals and 60 diseased ones. Depending on the variability within each respective cohort different numbers could make sense, but this is a reasonable choice to make. Similarly, we should try to balance the distributions of age and gender such that the sick and healthy cohorts are as similar as possible with respect to covariates other than disease status. This will prevent confounding effects and ensure more reliable results. Given that we can only sequence 120 total samples, we should perform bulk RNA-seq on liver samples since this is too few samples to look at with scRNA-seq due to its high level of variation. Moreover, since this is a preliminary study, it makes sense to use the more straightforward protocol. "
   ]
  },
  {
   "cell_type": "markdown",
   "metadata": {},
   "source": [
    "## Data cleaning and pre-processing\n",
    "### What steps do you think are necessary to prepare the data for downstream analyses?\n",
    "\n",
    "#### Answer: We will need to perform several steps to get our data ready for the analyses we wish to execute. These include: 1) normalization, 2) removal of low-quality genes, 3) log transformation, 4) removal of outliers, and 5) correction for confounding effects. Normalization should be performed using the median method since we are working with bulk data and that is the most robust approach we've learned. We can then throw away genes which are not variable between samples or which have expression levels which are too low. We'll then want to log transform our data so that our subsequent steps yield better results. Using this transformed data, we should standardize and use PCA to look for outliers. Any that we find should be investigated for removal. Finally, we can look at our PCA plots and see whether effects due to batch, gender, age, or other covariates manifest in the projection. If so, we may want to correct for them using linear regression or split our samples into the appropriate groups."
   ]
  },
  {
   "cell_type": "markdown",
   "metadata": {},
   "source": [
    "## EDA and data visualization\n",
    "### What preliminary and exploratory analyses would you perform? What figures would you generate?\n",
    "\n",
    "#### Answer: I would look at three main types of figures: 1) histograms, 2) scatterplots, and 3) PCA plots. Histograms of gene expression values in both conditions will reveal the presence of any widespread shifts in relative expression, while scatterplots will be informative of the degree of similarity between conditions (correlation) and highlight genes which may be candidates for differential expression. Lastly, looking at projections along the various PCs will demonstrate which PCs distinguish cases and controls (sick vs healthy), perhaps providing information about the coexpression of certain subsets of genes. "
   ]
  },
  {
   "cell_type": "markdown",
   "metadata": {},
   "source": [
    "## Analysis\n",
    "### How would you identify whether healthy/sick samples are distinguishable? How would you ascertain which genes, if any, have differences in expression levels associated with disease status? Be sure to mention the specific analyses and steps you would perform.\n",
    "\n",
    "#### Answer: To specifically extract genes which are different between conditions, we will perform a differential expression analysis. To do this, I would do either a rank-sum test or A/B test for each gene to determine whether the expression levels are different between healthy and sick individuals. This test will yield p-values for each gene, which should be visually inspected with a histogram to make sure it looks as expected. After computing log2 fold changes of genes, I would also make a volcano plot as it succinctly summarizes both the amount of change between conditions and significance thereof. Finally, we should apply a false discovery rate correction since we performed many tests and need to control the number of mistakes we make. We can use these corrected p-values to determine which genes are statistically significant (q < 0.05 is a conservative choice)."
   ]
  },
  {
   "cell_type": "code",
   "execution_count": 2,
   "metadata": {},
   "outputs": [
    {
     "name": "stdout",
     "output_type": "stream",
     "text": [
      "=====================================================================\n",
      "Assignment: Project 1: Proposal\n",
      "OK, version v1.12.5\n",
      "=====================================================================\n",
      "\n",
      "Successfully logged in as jrfischer@berkeley.edu\n"
     ]
    }
   ],
   "source": [
    "ok = Notebook('Project01_Proposal.ok')\n",
    "_ = ok.auth(inline=True)"
   ]
  },
  {
   "cell_type": "code",
   "execution_count": null,
   "metadata": {},
   "outputs": [
    {
     "data": {
      "application/javascript": [
       "IPython.notebook.save_checkpoint();"
      ],
      "text/plain": [
       "<IPython.core.display.Javascript object>"
      ]
     },
     "metadata": {},
     "output_type": "display_data"
    }
   ],
   "source": [
    "# Submit the assignment\n",
    "_ = ok.submit()"
   ]
  },
  {
   "cell_type": "code",
   "execution_count": null,
   "metadata": {},
   "outputs": [],
   "source": []
  }
 ],
 "metadata": {
  "kernelspec": {
   "display_name": "Python 3",
   "language": "python",
   "name": "python3"
  },
  "language_info": {
   "codemirror_mode": {
    "name": "ipython",
    "version": 3
   },
   "file_extension": ".py",
   "mimetype": "text/x-python",
   "name": "python",
   "nbconvert_exporter": "python",
   "pygments_lexer": "ipython3",
   "version": "3.6.9"
  }
 },
 "nbformat": 4,
 "nbformat_minor": 4
}
