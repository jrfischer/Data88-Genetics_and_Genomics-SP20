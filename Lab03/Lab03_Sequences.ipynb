{
 "cells": [
  {
   "cell_type": "markdown",
   "metadata": {},
   "source": [
    "# Sequences Lab"
   ]
  },
  {
   "cell_type": "markdown",
   "metadata": {},
   "source": [
    "### by Jonathan Fischer and Courtney Rauchman"
   ]
  },
  {
   "cell_type": "code",
   "execution_count": null,
   "metadata": {},
   "outputs": [],
   "source": [
    "from datascience import *\n",
    "import numpy as np\n",
    "import seaborn as sns\n",
    "import matplotlib\n",
    "%matplotlib inline\n",
    "import matplotlib.pyplot as plt\n",
    "from scipy.stats import multivariate_normal\n",
    "import scipy.stats as stats\n",
    "import scipy as scipy\n",
    "import pandas as pd\n",
    "plt.style.use('fivethirtyeight')\n",
    "from client.api.notebook import Notebook"
   ]
  },
  {
   "cell_type": "markdown",
   "metadata": {},
   "source": [
    "## Reference Assembly"
   ]
  },
  {
   "cell_type": "code",
   "execution_count": null,
   "metadata": {},
   "outputs": [],
   "source": [
    "# Let's imagine we've performed an experiment and obtained the set of 8 reads below. We happen to know \n",
    "# that these correspond to the coding sequence of a gene of length 45 nucleotides.\n",
    "\n",
    "reads = ['ATGCTAGAAA','GGAGACTGCT','AGTTAGTCAT','CCATAGCTGA',\n",
    " 'AGAAACGGCT','CGGCTAGTTA','CTGCTCCATA','GTCATGGAGA']"
   ]
  },
  {
   "cell_type": "code",
   "execution_count": null,
   "metadata": {},
   "outputs": [],
   "source": [
    "# We want to use these reads to obtain the actual sequence of the entire gene. Let's assume that each read overlaps\n",
    "# with only one other by exactly 5 bp. These overlaps will be in the first and last 5 nt of each read.\n",
    "# By stitching these reads together, we can thus obtain the entire gene.\n",
    "\n",
    "# Assemble the reads to yield the sequence of the gene. Call this value full_seq\n",
    "\n",
    "# Then the first 5 bp and last 5 bp them from the raw sequences and populate the respective arrays\n",
    "prefixes = [? for ? in ?]\n",
    "suffixes = [? for ? in ?]\n",
    "\n",
    "# Initialize an array of zeros in which to store which reads overlap\n",
    "match_mat = np.zeros((len(prefixes), len(suffixes)))\n",
    "# Iterate over prefixes and suffixes to identify when the prefix of read i equals the suffix of read j\n",
    "for i in np.arange(?):\n",
    "    for j in np.arange(?):\n",
    "        ?[i,j] = ?\n",
    "        \n",
    "print(match_mat)\n",
    "\n",
    "ind = int(np.argwhere(?)) # find the read whose prefix doesn't match any suffixes\n",
    "full_seq = ?              # initialize the full sequence with that read\n",
    "# Iterate over the number of remaining sequences, identifying which read's prefix matches the current suffix\n",
    "for i in np.arange(?):\n",
    "    ind = int(np.argwhere(?))\n",
    "    full_seq += ?\n",
    "    \n",
    "full_seq"
   ]
  },
  {
   "cell_type": "markdown",
   "metadata": {},
   "source": [
    "## Read mapping"
   ]
  },
  {
   "cell_type": "code",
   "execution_count": null,
   "metadata": {},
   "outputs": [],
   "source": [
    "# Now let's assume already have the reference sequences for two different genes and want to quantify\n",
    "# their expression levels. We perform an experiment and get a set of reads, some of which come from these \n",
    "# genes. We can estimate their expression by counting the number of reads which match the sequence\n",
    "# in the respective references. We only want to count reads which uniquely align to one gene or the other.\n",
    "\n",
    "# Load the data\n",
    "\n",
    "# Reference sequences\n",
    "gene_1 = 'ATGCTAGAAACGGCTAGTTATTCATGGAGACTGCTCCATAGCTGA'\n",
    "gene_2 = 'ATGTATGATCTCCAGGTATTCACGCAGTGCTCGCCTTACTTATAG'\n",
    "\n",
    "# Reads from experiment\n",
    "experimental_reads = [\n",
    " 'TCATG','CGGCT','TGGAG','GCTCC','ACTGC','TTATT','TATTC','AGAAA','AACGG','AGCTG','CTAGT','GCTCC','ATGGA',\n",
    " 'AACGG','TAGAA','ACGGC','ATAGC','GGAGA','TAGTT','CGGCT','ACTGC','GGCTA','GCTAG','GCTAG','AGTTA','TGCTA',\n",
    " 'TTATT','TGCTA','GCTAG','AGAAA','AACGG','ATAGC','TTATT','TCCAG','TACTT','TGATC','CTTAT','TGATC','TTATA',\n",
    " 'TCGCC','CTCCA','TGATC','CAGTG','TTATA','GCAGT','AGGTA','GCAGT','TGTAT','GCCTT','ATTCA','ATGAT','CTCCA',\n",
    " 'CCTTA','GATCT','CAGGT','TCCAG','ACTTA','AATAT','ATGAA','TGTGG','GGTGC','GCAAG','CTACC','CACCG','TGGGG',\n",
    " 'TAGGT','CTGCC','AGGCT','GGTAG','GGCGT','AGTGA','AATGT','CGTCG','CGTCC','GTACC','AGGGA','ATCGG','CTCTT',\n",
    " 'CCGGA','AATGG','CTTTC','TAAAT','TATAA','GGTTA','AAAGG','TCAGG','GCATT']\n"
   ]
  },
  {
   "cell_type": "code",
   "execution_count": null,
   "metadata": {},
   "outputs": [],
   "source": [
    "# Write a function (read_map_check) that takes two sequences, one test and one reference, as input and \n",
    "# checks whether the test sequence aligns to the reference.\n",
    "\n",
    "def read_map_check(test_seq, ref_seq):\n",
    "    map_flag = ?        # Does test_seq match any subsequence of ref_seq?\n",
    "    return(map_flag)"
   ]
  },
  {
   "cell_type": "code",
   "execution_count": null,
   "metadata": {},
   "outputs": [],
   "source": [
    "# Now apply your function to the set of experimental reads to produce the expression counts for each gene.\n",
    "# Remember that only reads mapping uniquely to a given sequence will get counted.\n",
    "\n",
    "# Initialize counters at zero\n",
    "gene_1_hits = 0\n",
    "gene_2_hits = 0\n",
    "\n",
    "# For each experimental read, check whether it maps to a sequence in gene_1 or gene_2.\n",
    "# If it maps uniquely to one gene, increase that gene's count by 1\n",
    "for i in ?:\n",
    "    m1 = ?(?, ?)             # does the read map to gene 1?\n",
    "    m2 = ?(?, ?)             # does the read map to gene 2?\n",
    "    if ? and not ?:          # if unique to gene 1\n",
    "        gene_1_hits += ?     # update gene 1 counts\n",
    "    if ? and not ?:          # if unique to gene 2\n",
    "        gene_2_hits += ?     # update gene 2 counts\n",
    "\n",
    "gene_1_hits, gene_2_hits  "
   ]
  },
  {
   "cell_type": "markdown",
   "metadata": {},
   "source": [
    "## Comparing genetic sequences"
   ]
  },
  {
   "cell_type": "code",
   "execution_count": null,
   "metadata": {},
   "outputs": [],
   "source": [
    "# A simple way to compare the similarity of genetic sequences is to compute a quantity known as the Hamming distance.\n",
    "# This measures the number of mismatches between pairs of sequences; e.g., d_H('ACG', 'ATG') = 1, \n",
    "# d_H('TAG', 'TAG') = 0, etc. \n",
    "\n",
    "# We will now compare the differences in the same gene observed in two \"populations\". First, load the provided data.\n",
    "\n",
    "data_pop_1 = ['ATGCTAGAAAGGGCTAGTTAGACATGGAGACGGCTCCATAGCTGA', 'ATGCTAGTAACGGCTAGTTTGTCATGGAGACTGCTCCATACCTGA', 'ATGCTAGATACGGCTAGTTACTCATGGAGAGAGCTCCATAGCTGA', 'ATGCTAGTTACGGCTACTTAGTCATCGAGACTGCACCATAGCTGA', 'ATGCTAGAATCGGGTAGATAGTCATGGAGACAGCTCCATAGCTGA']\n",
    "data_pop_2 = ['ATGCAAGCAACGGCTTGTTTTTCATGGACACTGATCCATTGCTGA', 'ATGCATGGAAGGGCTAGTTATTCTTGCAGACTGATCCATTGCTGA', 'ATGCAAGCAACGGCTAGTTATTCTTGGACACTGATGCATTGCTGA', 'ATGCAAGGAACGGCAAGTTAATCATGGTGACTCATCCATTGCTGA', 'ATGCAAGGAAGGGCTAGATATTCGTGGAGAGTGATCGATTGCTGA']\n"
   ]
  },
  {
   "cell_type": "code",
   "execution_count": null,
   "metadata": {},
   "outputs": [],
   "source": [
    "# Write a function which takes two sequences as input and outputs the Hamming distance between them.\n",
    "\n",
    "def compute_hamming_dist(seq_1, seq_2):\n",
    "    # check that they are the same length\n",
    "    if ?:\n",
    "        d = 'Error: sequences are not of same length'\n",
    "    else:\n",
    "        # initialize the distance to 0\n",
    "        d = ?\n",
    "        # count how many locations differ between the two\n",
    "        for n in np.arange(?):\n",
    "            d += ?\n",
    "    return(d)"
   ]
  },
  {
   "cell_type": "code",
   "execution_count": null,
   "metadata": {},
   "outputs": [],
   "source": [
    "# Construct a matrix D in which D_{ij} = d_H(s_i, s_j) for sequences s_i and s_j.\n",
    "\n",
    "# Combine the data from the different populations\n",
    "merged_data = ?\n",
    "\n",
    "# Initialize a distance matrix of all zeros\n",
    "D = np.zeros( (?, ?) )\n",
    "\n",
    "# Iterate over the sequences to find the Hamming distances between each pair\n",
    "for i in np.arange(?):\n",
    "    for j in np.arange(?):\n",
    "        d_ij = ?\n",
    "        D[?,?] = ?\n",
    "    \n",
    "D"
   ]
  },
  {
   "cell_type": "code",
   "execution_count": null,
   "metadata": {},
   "outputs": [],
   "source": [
    "# Use MDS to examine whether the individuals cluster in any noticeable way\n",
    "\n",
    "# You don't need to edit this part\n",
    "from sklearn.manifold import MDS\n",
    "mds = MDS(n_components=2, random_state = 100200300, dissimilarity=\"precomputed\")\n",
    "proj = mds.fit_transform(D)\n",
    "\n",
    "# Now make a scatter plot of the MDS projection (proj) with the points colored by population\n",
    "plt.scatter(?, ?) # plot the points corresponding to population 1\n",
    "plt.scatter(?, ?) # plot the points corresponding to population 2\n",
    "plt.xlabel('Coordinate 1')\n",
    "plt.ylabel('Coordinate 2')\n",
    "plt.title('MDS of individuals based on genetic sequences')\n",
    "plt.legend(['Pop 1', 'Pop 2'], loc = 'lower right')\n",
    "plt.show()"
   ]
  },
  {
   "cell_type": "markdown",
   "metadata": {},
   "source": [
    "## To submit"
   ]
  },
  {
   "cell_type": "code",
   "execution_count": null,
   "metadata": {},
   "outputs": [],
   "source": [
    "ok = Notebook('Lab03_Sequences.ok')\n",
    "_ = ok.auth(inline=True)"
   ]
  },
  {
   "cell_type": "code",
   "execution_count": null,
   "metadata": {},
   "outputs": [],
   "source": [
    "# Submit the assignment.\n",
    "_ = ok.submit()"
   ]
  }
 ],
 "metadata": {
  "kernelspec": {
   "display_name": "Python 3",
   "language": "python",
   "name": "python3"
  },
  "language_info": {
   "codemirror_mode": {
    "name": "ipython",
    "version": 3
   },
   "file_extension": ".py",
   "mimetype": "text/x-python",
   "name": "python",
   "nbconvert_exporter": "python",
   "pygments_lexer": "ipython3",
   "version": "3.7.3"
  }
 },
 "nbformat": 4,
 "nbformat_minor": 2
}
