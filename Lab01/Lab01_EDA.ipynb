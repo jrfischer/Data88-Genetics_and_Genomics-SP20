{
 "cells": [
  {
   "cell_type": "markdown",
   "metadata": {},
   "source": [
    "### Data 88: Statistical Genomics - 02/10/20"
   ]
  },
  {
   "cell_type": "markdown",
   "metadata": {},
   "source": [
    "# Lab 1 - Comparative Genomics through EDA"
   ]
  },
  {
   "cell_type": "markdown",
   "metadata": {},
   "source": [
    "### by Jonathan Fischer and Shishi Luo"
   ]
  },
  {
   "cell_type": "code",
   "execution_count": 2,
   "metadata": {},
   "outputs": [],
   "source": [
    "# Import the necessary modules\n",
    "%matplotlib inline\n",
    "import matplotlib.pyplot as plt\n",
    "import numpy as np\n",
    "import scipy.stats as sp\n",
    "import pandas as pd\n",
    "from client.api.notebook import Notebook\n",
    "plt.style.use('fivethirtyeight')"
   ]
  },
  {
   "cell_type": "markdown",
   "metadata": {},
   "source": [
    "## Let's explore genome sizes for some commonly studied organisms"
   ]
  },
  {
   "cell_type": "markdown",
   "metadata": {},
   "source": [
    "In this course we will primarily use pandas and numpy to store and manipulate data rather than the datascience module designed for Data 8. These modules are more powerful and are common tools in data analysis in Python. The guided examples below should help you get comfortable with some of the different syntax requirements of these modules. You'll often need to be aware of whether you're working with a pandas data frame or a numpy array, as they are indexed and sliced in different ways. Below are a series of (guided) tasks related to the exploration of some data about genomes of various organisms. You should fill in any ?s with the correct code to complete the task. When in doubt, read the hints in/above each cell or refer to previous cells--hints for all the answers should be somewhere in this document!"
   ]
  },
  {
   "cell_type": "markdown",
   "metadata": {},
   "source": [
    "Load the table of model organisms and name it model_species"
   ]
  },
  {
   "cell_type": "code",
   "execution_count": 3,
   "metadata": {},
   "outputs": [
    {
     "data": {
      "text/html": [
       "<div>\n",
       "<style scoped>\n",
       "    .dataframe tbody tr th:only-of-type {\n",
       "        vertical-align: middle;\n",
       "    }\n",
       "\n",
       "    .dataframe tbody tr th {\n",
       "        vertical-align: top;\n",
       "    }\n",
       "\n",
       "    .dataframe thead th {\n",
       "        text-align: right;\n",
       "    }\n",
       "</style>\n",
       "<table border=\"1\" class=\"dataframe\">\n",
       "  <thead>\n",
       "    <tr style=\"text-align: right;\">\n",
       "      <th></th>\n",
       "      <th>Scientific name</th>\n",
       "      <th>Common name</th>\n",
       "      <th>Genes</th>\n",
       "      <th>Proteins</th>\n",
       "      <th>Size</th>\n",
       "    </tr>\n",
       "  </thead>\n",
       "  <tbody>\n",
       "    <tr>\n",
       "      <th>0</th>\n",
       "      <td>Escherichia coli</td>\n",
       "      <td>E. coli</td>\n",
       "      <td>5618</td>\n",
       "      <td>5358</td>\n",
       "      <td>5478680</td>\n",
       "    </tr>\n",
       "    <tr>\n",
       "      <th>1</th>\n",
       "      <td>Arabidopsis thaliana</td>\n",
       "      <td>A. thaliana</td>\n",
       "      <td>33583</td>\n",
       "      <td>35378</td>\n",
       "      <td>119668000</td>\n",
       "    </tr>\n",
       "    <tr>\n",
       "      <th>2</th>\n",
       "      <td>Caenorhabditis elegans</td>\n",
       "      <td>C. elegans</td>\n",
       "      <td>46711</td>\n",
       "      <td>27943</td>\n",
       "      <td>100286000</td>\n",
       "    </tr>\n",
       "    <tr>\n",
       "      <th>3</th>\n",
       "      <td>Danio rerio</td>\n",
       "      <td>Zebrafish</td>\n",
       "      <td>39803</td>\n",
       "      <td>47861</td>\n",
       "      <td>1371720000</td>\n",
       "    </tr>\n",
       "    <tr>\n",
       "      <th>4</th>\n",
       "      <td>Drosophila melanogaster</td>\n",
       "      <td>Fruit fly</td>\n",
       "      <td>17651</td>\n",
       "      <td>30443</td>\n",
       "      <td>143726000</td>\n",
       "    </tr>\n",
       "    <tr>\n",
       "      <th>5</th>\n",
       "      <td>Gallus gallus</td>\n",
       "      <td>Chicken</td>\n",
       "      <td>25062</td>\n",
       "      <td>46393</td>\n",
       "      <td>1230260000</td>\n",
       "    </tr>\n",
       "    <tr>\n",
       "      <th>6</th>\n",
       "      <td>Mus musculus</td>\n",
       "      <td>Mouse</td>\n",
       "      <td>48855</td>\n",
       "      <td>78065</td>\n",
       "      <td>2803570000</td>\n",
       "    </tr>\n",
       "    <tr>\n",
       "      <th>7</th>\n",
       "      <td>Saccharomyces cerevisiae S288c</td>\n",
       "      <td>Yeast</td>\n",
       "      <td>6350</td>\n",
       "      <td>5907</td>\n",
       "      <td>12157100</td>\n",
       "    </tr>\n",
       "    <tr>\n",
       "      <th>8</th>\n",
       "      <td>Rattus norvegicus</td>\n",
       "      <td>Rat</td>\n",
       "      <td>37647</td>\n",
       "      <td>50706</td>\n",
       "      <td>2870180000</td>\n",
       "    </tr>\n",
       "    <tr>\n",
       "      <th>9</th>\n",
       "      <td>Zea mays</td>\n",
       "      <td>Corn (maize)</td>\n",
       "      <td>104305</td>\n",
       "      <td>116015</td>\n",
       "      <td>2067620000</td>\n",
       "    </tr>\n",
       "    <tr>\n",
       "      <th>10</th>\n",
       "      <td>Oryza sativa Japonica Group</td>\n",
       "      <td>Rice</td>\n",
       "      <td>66100</td>\n",
       "      <td>81951</td>\n",
       "      <td>374423000</td>\n",
       "    </tr>\n",
       "    <tr>\n",
       "      <th>11</th>\n",
       "      <td>Canis lupus familiaris</td>\n",
       "      <td>Dog</td>\n",
       "      <td>30186</td>\n",
       "      <td>47089</td>\n",
       "      <td>2410980000</td>\n",
       "    </tr>\n",
       "    <tr>\n",
       "      <th>12</th>\n",
       "      <td>Influenza A virus (A/New York/392/2004(H3N2))</td>\n",
       "      <td>Influenza</td>\n",
       "      <td>12</td>\n",
       "      <td>12</td>\n",
       "      <td>13627</td>\n",
       "    </tr>\n",
       "    <tr>\n",
       "      <th>13</th>\n",
       "      <td>Human immunodeficiency virus 1</td>\n",
       "      <td>HIV</td>\n",
       "      <td>10</td>\n",
       "      <td>10</td>\n",
       "      <td>9181</td>\n",
       "    </tr>\n",
       "    <tr>\n",
       "      <th>14</th>\n",
       "      <td>Ailuropoda melanoleuca</td>\n",
       "      <td>Giant panda</td>\n",
       "      <td>27613</td>\n",
       "      <td>32507</td>\n",
       "      <td>2299510000</td>\n",
       "    </tr>\n",
       "  </tbody>\n",
       "</table>\n",
       "</div>"
      ],
      "text/plain": [
       "                                  Scientific name   Common name   Genes  \\\n",
       "0                                Escherichia coli       E. coli    5618   \n",
       "1                            Arabidopsis thaliana   A. thaliana   33583   \n",
       "2                          Caenorhabditis elegans    C. elegans   46711   \n",
       "3                                     Danio rerio     Zebrafish   39803   \n",
       "4                         Drosophila melanogaster     Fruit fly   17651   \n",
       "5                                   Gallus gallus       Chicken   25062   \n",
       "6                                    Mus musculus         Mouse   48855   \n",
       "7                  Saccharomyces cerevisiae S288c         Yeast    6350   \n",
       "8                               Rattus norvegicus           Rat   37647   \n",
       "9                                        Zea mays  Corn (maize)  104305   \n",
       "10                    Oryza sativa Japonica Group          Rice   66100   \n",
       "11                         Canis lupus familiaris           Dog   30186   \n",
       "12  Influenza A virus (A/New York/392/2004(H3N2))     Influenza      12   \n",
       "13                 Human immunodeficiency virus 1           HIV      10   \n",
       "14                         Ailuropoda melanoleuca   Giant panda   27613   \n",
       "\n",
       "    Proteins        Size  \n",
       "0       5358     5478680  \n",
       "1      35378   119668000  \n",
       "2      27943   100286000  \n",
       "3      47861  1371720000  \n",
       "4      30443   143726000  \n",
       "5      46393  1230260000  \n",
       "6      78065  2803570000  \n",
       "7       5907    12157100  \n",
       "8      50706  2870180000  \n",
       "9     116015  2067620000  \n",
       "10     81951   374423000  \n",
       "11     47089  2410980000  \n",
       "12        12       13627  \n",
       "13        10        9181  \n",
       "14     32507  2299510000  "
      ]
     },
     "execution_count": 3,
     "metadata": {},
     "output_type": "execute_result"
    }
   ],
   "source": [
    "# In general, we can read in csv files using pandas as follows:\n",
    "# table_name = pd.read_csv('filename')\n",
    "# filename = 'https://raw.githubusercontent.com/jrfischer/Data88-Genetics_and_Genomics-SP20/master/Lab1/model_species.csv'\n",
    "\n",
    "model_species = pd.read_csv('https://raw.githubusercontent.com/jrfischer/Data88-Genetics_and_Genomics-SP20/master/Lab1/model_species.csv')\n",
    "model_species"
   ]
  },
  {
   "cell_type": "markdown",
   "metadata": {},
   "source": [
    "We can check the size of our table by using the syntax df.shape. Try it below with our table model_species. The first value gives the number of rows and the second the number of columns. To get only the number of rows, we can use model_species.shape[0]."
   ]
  },
  {
   "cell_type": "code",
   "execution_count": 4,
   "metadata": {},
   "outputs": [
    {
     "data": {
      "text/plain": [
       "(15, 5)"
      ]
     },
     "execution_count": 4,
     "metadata": {},
     "output_type": "execute_result"
    }
   ],
   "source": [
    "# Print the shape of model_species\n",
    "?"
   ]
  },
  {
   "cell_type": "markdown",
   "metadata": {},
   "source": [
    "Let's rank organisms by their genome size. To sort the table, use table_name.sort_values('Column_name'). To sort in descending order, use the additional option like so: table_name.sort_values('Column_name', ascending = False).\n",
    "Try both ways out."
   ]
  },
  {
   "cell_type": "code",
   "execution_count": 5,
   "metadata": {},
   "outputs": [
    {
     "data": {
      "text/html": [
       "<div>\n",
       "<style scoped>\n",
       "    .dataframe tbody tr th:only-of-type {\n",
       "        vertical-align: middle;\n",
       "    }\n",
       "\n",
       "    .dataframe tbody tr th {\n",
       "        vertical-align: top;\n",
       "    }\n",
       "\n",
       "    .dataframe thead th {\n",
       "        text-align: right;\n",
       "    }\n",
       "</style>\n",
       "<table border=\"1\" class=\"dataframe\">\n",
       "  <thead>\n",
       "    <tr style=\"text-align: right;\">\n",
       "      <th></th>\n",
       "      <th>Scientific name</th>\n",
       "      <th>Common name</th>\n",
       "      <th>Genes</th>\n",
       "      <th>Proteins</th>\n",
       "      <th>Size</th>\n",
       "    </tr>\n",
       "  </thead>\n",
       "  <tbody>\n",
       "    <tr>\n",
       "      <th>8</th>\n",
       "      <td>Rattus norvegicus</td>\n",
       "      <td>Rat</td>\n",
       "      <td>37647</td>\n",
       "      <td>50706</td>\n",
       "      <td>2870180000</td>\n",
       "    </tr>\n",
       "    <tr>\n",
       "      <th>6</th>\n",
       "      <td>Mus musculus</td>\n",
       "      <td>Mouse</td>\n",
       "      <td>48855</td>\n",
       "      <td>78065</td>\n",
       "      <td>2803570000</td>\n",
       "    </tr>\n",
       "    <tr>\n",
       "      <th>11</th>\n",
       "      <td>Canis lupus familiaris</td>\n",
       "      <td>Dog</td>\n",
       "      <td>30186</td>\n",
       "      <td>47089</td>\n",
       "      <td>2410980000</td>\n",
       "    </tr>\n",
       "    <tr>\n",
       "      <th>14</th>\n",
       "      <td>Ailuropoda melanoleuca</td>\n",
       "      <td>Giant panda</td>\n",
       "      <td>27613</td>\n",
       "      <td>32507</td>\n",
       "      <td>2299510000</td>\n",
       "    </tr>\n",
       "    <tr>\n",
       "      <th>9</th>\n",
       "      <td>Zea mays</td>\n",
       "      <td>Corn (maize)</td>\n",
       "      <td>104305</td>\n",
       "      <td>116015</td>\n",
       "      <td>2067620000</td>\n",
       "    </tr>\n",
       "    <tr>\n",
       "      <th>3</th>\n",
       "      <td>Danio rerio</td>\n",
       "      <td>Zebrafish</td>\n",
       "      <td>39803</td>\n",
       "      <td>47861</td>\n",
       "      <td>1371720000</td>\n",
       "    </tr>\n",
       "    <tr>\n",
       "      <th>5</th>\n",
       "      <td>Gallus gallus</td>\n",
       "      <td>Chicken</td>\n",
       "      <td>25062</td>\n",
       "      <td>46393</td>\n",
       "      <td>1230260000</td>\n",
       "    </tr>\n",
       "    <tr>\n",
       "      <th>10</th>\n",
       "      <td>Oryza sativa Japonica Group</td>\n",
       "      <td>Rice</td>\n",
       "      <td>66100</td>\n",
       "      <td>81951</td>\n",
       "      <td>374423000</td>\n",
       "    </tr>\n",
       "    <tr>\n",
       "      <th>4</th>\n",
       "      <td>Drosophila melanogaster</td>\n",
       "      <td>Fruit fly</td>\n",
       "      <td>17651</td>\n",
       "      <td>30443</td>\n",
       "      <td>143726000</td>\n",
       "    </tr>\n",
       "    <tr>\n",
       "      <th>1</th>\n",
       "      <td>Arabidopsis thaliana</td>\n",
       "      <td>A. thaliana</td>\n",
       "      <td>33583</td>\n",
       "      <td>35378</td>\n",
       "      <td>119668000</td>\n",
       "    </tr>\n",
       "    <tr>\n",
       "      <th>2</th>\n",
       "      <td>Caenorhabditis elegans</td>\n",
       "      <td>C. elegans</td>\n",
       "      <td>46711</td>\n",
       "      <td>27943</td>\n",
       "      <td>100286000</td>\n",
       "    </tr>\n",
       "    <tr>\n",
       "      <th>7</th>\n",
       "      <td>Saccharomyces cerevisiae S288c</td>\n",
       "      <td>Yeast</td>\n",
       "      <td>6350</td>\n",
       "      <td>5907</td>\n",
       "      <td>12157100</td>\n",
       "    </tr>\n",
       "    <tr>\n",
       "      <th>0</th>\n",
       "      <td>Escherichia coli</td>\n",
       "      <td>E. coli</td>\n",
       "      <td>5618</td>\n",
       "      <td>5358</td>\n",
       "      <td>5478680</td>\n",
       "    </tr>\n",
       "    <tr>\n",
       "      <th>12</th>\n",
       "      <td>Influenza A virus (A/New York/392/2004(H3N2))</td>\n",
       "      <td>Influenza</td>\n",
       "      <td>12</td>\n",
       "      <td>12</td>\n",
       "      <td>13627</td>\n",
       "    </tr>\n",
       "    <tr>\n",
       "      <th>13</th>\n",
       "      <td>Human immunodeficiency virus 1</td>\n",
       "      <td>HIV</td>\n",
       "      <td>10</td>\n",
       "      <td>10</td>\n",
       "      <td>9181</td>\n",
       "    </tr>\n",
       "  </tbody>\n",
       "</table>\n",
       "</div>"
      ],
      "text/plain": [
       "                                  Scientific name   Common name   Genes  \\\n",
       "8                               Rattus norvegicus           Rat   37647   \n",
       "6                                    Mus musculus         Mouse   48855   \n",
       "11                         Canis lupus familiaris           Dog   30186   \n",
       "14                         Ailuropoda melanoleuca   Giant panda   27613   \n",
       "9                                        Zea mays  Corn (maize)  104305   \n",
       "3                                     Danio rerio     Zebrafish   39803   \n",
       "5                                   Gallus gallus       Chicken   25062   \n",
       "10                    Oryza sativa Japonica Group          Rice   66100   \n",
       "4                         Drosophila melanogaster     Fruit fly   17651   \n",
       "1                            Arabidopsis thaliana   A. thaliana   33583   \n",
       "2                          Caenorhabditis elegans    C. elegans   46711   \n",
       "7                  Saccharomyces cerevisiae S288c         Yeast    6350   \n",
       "0                                Escherichia coli       E. coli    5618   \n",
       "12  Influenza A virus (A/New York/392/2004(H3N2))     Influenza      12   \n",
       "13                 Human immunodeficiency virus 1           HIV      10   \n",
       "\n",
       "    Proteins        Size  \n",
       "8      50706  2870180000  \n",
       "6      78065  2803570000  \n",
       "11     47089  2410980000  \n",
       "14     32507  2299510000  \n",
       "9     116015  2067620000  \n",
       "3      47861  1371720000  \n",
       "5      46393  1230260000  \n",
       "10     81951   374423000  \n",
       "4      30443   143726000  \n",
       "1      35378   119668000  \n",
       "2      27943   100286000  \n",
       "7       5907    12157100  \n",
       "0       5358     5478680  \n",
       "12        12       13627  \n",
       "13        10        9181  "
      ]
     },
     "execution_count": 5,
     "metadata": {},
     "output_type": "execute_result"
    }
   ],
   "source": [
    "model_species.sort_values(?)"
   ]
  },
  {
   "cell_type": "markdown",
   "metadata": {},
   "source": [
    "Can we extract just the organisms with more than 60,000 genes? This is done by table_name.loc[table_name['Column_name'] ~ condition,]. The ~ symbol in the above is the operator for the condition. In this case, it's > for greater than"
   ]
  },
  {
   "cell_type": "code",
   "execution_count": 6,
   "metadata": {},
   "outputs": [
    {
     "data": {
      "text/html": [
       "<div>\n",
       "<style scoped>\n",
       "    .dataframe tbody tr th:only-of-type {\n",
       "        vertical-align: middle;\n",
       "    }\n",
       "\n",
       "    .dataframe tbody tr th {\n",
       "        vertical-align: top;\n",
       "    }\n",
       "\n",
       "    .dataframe thead th {\n",
       "        text-align: right;\n",
       "    }\n",
       "</style>\n",
       "<table border=\"1\" class=\"dataframe\">\n",
       "  <thead>\n",
       "    <tr style=\"text-align: right;\">\n",
       "      <th></th>\n",
       "      <th>Scientific name</th>\n",
       "      <th>Common name</th>\n",
       "      <th>Genes</th>\n",
       "      <th>Proteins</th>\n",
       "      <th>Size</th>\n",
       "    </tr>\n",
       "  </thead>\n",
       "  <tbody>\n",
       "    <tr>\n",
       "      <th>9</th>\n",
       "      <td>Zea mays</td>\n",
       "      <td>Corn (maize)</td>\n",
       "      <td>104305</td>\n",
       "      <td>116015</td>\n",
       "      <td>2067620000</td>\n",
       "    </tr>\n",
       "    <tr>\n",
       "      <th>10</th>\n",
       "      <td>Oryza sativa Japonica Group</td>\n",
       "      <td>Rice</td>\n",
       "      <td>66100</td>\n",
       "      <td>81951</td>\n",
       "      <td>374423000</td>\n",
       "    </tr>\n",
       "  </tbody>\n",
       "</table>\n",
       "</div>"
      ],
      "text/plain": [
       "                Scientific name   Common name   Genes  Proteins        Size\n",
       "9                      Zea mays  Corn (maize)  104305    116015  2067620000\n",
       "10  Oryza sativa Japonica Group          Rice   66100     81951   374423000"
      ]
     },
     "execution_count": 6,
     "metadata": {},
     "output_type": "execute_result"
    }
   ],
   "source": [
    "model_species.loc[?,]"
   ]
  },
  {
   "cell_type": "markdown",
   "metadata": {},
   "source": [
    "Alternatively, say we simply want the first three rows of our table. We can access them using the .iloc attribute, e.g. table_name.iloc[0:3,]. Try it with model_species."
   ]
  },
  {
   "cell_type": "code",
   "execution_count": 7,
   "metadata": {},
   "outputs": [
    {
     "data": {
      "text/html": [
       "<div>\n",
       "<style scoped>\n",
       "    .dataframe tbody tr th:only-of-type {\n",
       "        vertical-align: middle;\n",
       "    }\n",
       "\n",
       "    .dataframe tbody tr th {\n",
       "        vertical-align: top;\n",
       "    }\n",
       "\n",
       "    .dataframe thead th {\n",
       "        text-align: right;\n",
       "    }\n",
       "</style>\n",
       "<table border=\"1\" class=\"dataframe\">\n",
       "  <thead>\n",
       "    <tr style=\"text-align: right;\">\n",
       "      <th></th>\n",
       "      <th>Scientific name</th>\n",
       "      <th>Common name</th>\n",
       "      <th>Genes</th>\n",
       "      <th>Proteins</th>\n",
       "      <th>Size</th>\n",
       "    </tr>\n",
       "  </thead>\n",
       "  <tbody>\n",
       "    <tr>\n",
       "      <th>0</th>\n",
       "      <td>Escherichia coli</td>\n",
       "      <td>E. coli</td>\n",
       "      <td>5618</td>\n",
       "      <td>5358</td>\n",
       "      <td>5478680</td>\n",
       "    </tr>\n",
       "    <tr>\n",
       "      <th>1</th>\n",
       "      <td>Arabidopsis thaliana</td>\n",
       "      <td>A. thaliana</td>\n",
       "      <td>33583</td>\n",
       "      <td>35378</td>\n",
       "      <td>119668000</td>\n",
       "    </tr>\n",
       "    <tr>\n",
       "      <th>2</th>\n",
       "      <td>Caenorhabditis elegans</td>\n",
       "      <td>C. elegans</td>\n",
       "      <td>46711</td>\n",
       "      <td>27943</td>\n",
       "      <td>100286000</td>\n",
       "    </tr>\n",
       "  </tbody>\n",
       "</table>\n",
       "</div>"
      ],
      "text/plain": [
       "          Scientific name  Common name  Genes  Proteins       Size\n",
       "0        Escherichia coli      E. coli   5618      5358    5478680\n",
       "1    Arabidopsis thaliana  A. thaliana  33583     35378  119668000\n",
       "2  Caenorhabditis elegans   C. elegans  46711     27943  100286000"
      ]
     },
     "execution_count": 7,
     "metadata": {},
     "output_type": "execute_result"
    }
   ],
   "source": [
    "model_species.iloc[?,]"
   ]
  },
  {
   "cell_type": "markdown",
   "metadata": {},
   "source": [
    "Here we've demonstrated how to refer to specific columns and rows in pandas. Note that df.loc is used when the conditions are not integers, df.iloc when they are, and simply df[\"col_name\"] when we want to extract a column named 'col_name'. Also don't forget the zero-indexing and half-open interval properties of Python."
   ]
  },
  {
   "cell_type": "markdown",
   "metadata": {},
   "source": [
    "## Let's compare the genome sizes of some pathogens"
   ]
  },
  {
   "cell_type": "markdown",
   "metadata": {},
   "source": [
    "Now we're going to examine how the genomes of some pathogens compare. Load the provided pathogen information and name the resulting table pathogens."
   ]
  },
  {
   "cell_type": "code",
   "execution_count": null,
   "metadata": {},
   "outputs": [],
   "source": [
    "# filename is 'https://raw.githubusercontent.com/jrfischer/Data88-Genetics_and_Genomics-SP20/master/Lab1/pathogens.csv'\n",
    "\n",
    "pathogens = pd.read_csv(?)"
   ]
  },
  {
   "cell_type": "markdown",
   "metadata": {},
   "source": [
    "Take a look at the table. How many organisms does it have? (Don't forget we only want the first entry of df.shape here)."
   ]
  },
  {
   "cell_type": "code",
   "execution_count": null,
   "metadata": {},
   "outputs": [],
   "source": [
    "num_pathogens = ?\n",
    "num_pathogens"
   ]
  },
  {
   "cell_type": "markdown",
   "metadata": {},
   "source": [
    "With so many organisms, it can be hard to interpret the table. Histograms are a great way to visualize the distribution of a quantity of interest. Let's make a few to investigate our data."
   ]
  },
  {
   "cell_type": "code",
   "execution_count": null,
   "metadata": {},
   "outputs": [],
   "source": [
    "# Make a histogram of genome sizes for all the genomes in our table.\n",
    "# Hint: plt.hist(table_name['column_name'], bins = b, density = n)\n",
    "# b gives the number of bins in the histogram\n",
    "# n is either True or False for whether bin heights should be normalized by number of observations\n",
    "# Choose 20 bins and density = False\n",
    "\n",
    "plt.hist(?)\n",
    "plt.title('Pathogen genome sizes')\n",
    "plt.xlabel('Genome size')\n",
    "plt.ylabel('Count')\n",
    "plt.show()"
   ]
  },
  {
   "cell_type": "code",
   "execution_count": null,
   "metadata": {},
   "outputs": [],
   "source": [
    "# Now let's make a histogram of genome sizes split by subgroup.\n",
    "# Here we have Bacteria, Fungus, Parasite, and Virus as our category names.\n",
    "# Let's density = True because each group may have a different number of observations\n",
    "\n",
    "bins = np.linspace(0, 1500, 100)\n",
    "plt.hist(pathogens['Size'][pathogens['Subgroup'] == 'Bacteria'], bins, density = True, color = 'Blue', alpha = 0.5)\n",
    "plt.hist(pathogens['Size'][pathogens['Subgroup'] == ?], bins, density = True, color = 'Red', alpha = 0.5)\n",
    "plt.hist(pathogens['Size'][pathogens['Subgroup'] == ?], bins, density = True, color = 'Yellow', alpha = 0.5)\n",
    "plt.hist(pathogens['Size'][pathogens['Subgroup'] == ?], bins, density = True, color = 'Black', alpha = 0.5)\n",
    "\n",
    "plt.title('Pathogen genome sizes')\n",
    "plt.xlabel('Genome size (MB)')\n",
    "plt.ylabel('Density')\n",
    "plt.legend(['Bacteria', 'Fungus', 'Parasite', 'Virus'])\n",
    "plt.show()"
   ]
  },
  {
   "cell_type": "markdown",
   "metadata": {},
   "source": [
    "Now that we've seen histograms, let's look at some scatterplots. "
   ]
  },
  {
   "cell_type": "code",
   "execution_count": null,
   "metadata": {},
   "outputs": [],
   "source": [
    "# Make scatterplot of the number of genes vs the genome size in pathogens\n",
    "# Genome size on X axis (Size), Number of genes on Y axis (Genes)\n",
    "# plt.scatter(table['X_column'], table['Y_column'])\n",
    "\n",
    "plt.scatter(pathogens[?], pathogens[?])\n",
    "plt.title('Number of genes vs genome size in pathogens')\n",
    "plt.xlabel('Genome size (MB)')\n",
    "plt.ylabel('Number of genes')\n",
    "plt.show()"
   ]
  },
  {
   "cell_type": "markdown",
   "metadata": {},
   "source": [
    "Now let's consider two different measurements of correlation."
   ]
  },
  {
   "cell_type": "code",
   "execution_count": null,
   "metadata": {},
   "outputs": [],
   "source": [
    "# Also print Pearson AND Spearman correlations. \n",
    "# Command is print(sp.pearsonr(table['Variable1'], table['Variable2'])[0]) for Pearson\n",
    "# and print(sp.spearmanr(table['Variable1'], table['Variable2'])[0]) for Spearman\n",
    "\n",
    "print(sp.pearsonr(pathogens['Size'], pathogens['Genes'])[0], sp.spearmanr(pathogens['Size'], pathogens['Genes'])[0])"
   ]
  },
  {
   "cell_type": "code",
   "execution_count": null,
   "metadata": {},
   "outputs": [],
   "source": [
    "# Make scatterplot of the number of proteins vs number of genes in pathogens\n",
    "# Number of proteins on Y axis, number of genes on X axis\n",
    "# print both the pearson and spearman correlations between these quantities\n",
    "\n",
    "plt.scatter(?, ?)\n",
    "plt.title('Number of proteins vs number of genes in pathogens')\n",
    "plt.xlabel('Number of genes')\n",
    "plt.ylabel('Number of proteins')\n",
    "plt.show()\n",
    "\n",
    "print(sp.pearsonr(?)[0], sp.spearmanr(?)[0])"
   ]
  },
  {
   "cell_type": "markdown",
   "metadata": {},
   "source": [
    "Now let's see how to create a dataframe of our own from scratch. Here we'll fill it with some summary statistics about the centrality and spread of our data."
   ]
  },
  {
   "cell_type": "code",
   "execution_count": null,
   "metadata": {},
   "outputs": [],
   "source": [
    "# Compute the mean, median, standard deviation, and interquartile range for \n",
    "# the genome sizes, number of genes, and number of proteins. Store them in a df with \n",
    "# Mean, Median, SD, and IQR as the columns\n",
    "\n",
    "# mean: np.mean, median: np.median, standard deviation: np.std, IQR: sp.iqr\n",
    "# Put these into a table names pathogen_summary with row indices Size, Genes, and Proteins\n",
    "\n",
    "# Example of how to construct a pandas df\n",
    "# df = pd.DataFrame(data = [ [row1], [row2], ... , [last_row] ],\n",
    "# columns = ['first_col_name', ... , 'last_col_name'], index = ['first_index', ... , 'last_index'])\n",
    "\n",
    "\n",
    "pathogen_summary = pd.DataFrame(data = [ [np.mean(pathogens['Size']), np.median(pathogens['Size']), np.std(pathogens['Size']), sp.iqr(pathogens['Size'])],\n",
    "    [np.mean(pathogens['Genes']), np.median(pathogens['Genes']), np.std(pathogens['Genes']), sp.iqr(pathogens['Genes'])],\n",
    "    [np.mean(pathogens['Proteins']), np.median(pathogens['Proteins']), np.std(pathogens['Proteins']), sp.iqr(pathogens['Proteins'])]],\n",
    "    columns = ['Mean', 'Median', 'SD', 'IQR'], index = ['Size', 'Genes', 'Proteins'])\n",
    "\n",
    "pathogen_summary"
   ]
  },
  {
   "cell_type": "markdown",
   "metadata": {},
   "source": [
    "## Let's repeat these steps but for animals"
   ]
  },
  {
   "cell_type": "code",
   "execution_count": null,
   "metadata": {},
   "outputs": [],
   "source": [
    "# Load animal information. Name the table animals\n",
    "# filename is 'https://raw.githubusercontent.com/jrfischer/Data88-Genetics_and_Genomics-SP20/master/Lab1/animals.csv'\n",
    "\n",
    "animals = ?\n",
    "animals"
   ]
  },
  {
   "cell_type": "code",
   "execution_count": null,
   "metadata": {},
   "outputs": [],
   "source": [
    "# How many different animal species are in the table?\n",
    "?"
   ]
  },
  {
   "cell_type": "code",
   "execution_count": null,
   "metadata": {},
   "outputs": [],
   "source": [
    "# Histogram of animal genome sizes (in megabases)\n",
    "\n",
    "plt.hist(?, bins = 20, density = False)\n",
    "plt.title('Animal genome sizes')\n",
    "plt.xlabel('Genome size')\n",
    "plt.ylabel('Count')\n",
    "plt.show()"
   ]
  },
  {
   "cell_type": "code",
   "execution_count": null,
   "metadata": {},
   "outputs": [],
   "source": [
    "# Print the pearson and spearman correlations between genome sizes and numbers of genes\n",
    "print(sp.pearsonr(?, ?)[0], sp.spearmanr(?, ?)[0])"
   ]
  },
  {
   "cell_type": "code",
   "execution_count": null,
   "metadata": {},
   "outputs": [],
   "source": [
    "# Histograms of genome sizes split by Subgroup (aka pivot histograms)\n",
    "# Let's normalize by frequency here because each group may have a different number of \n",
    "\n",
    "# Now let's make a histogram of genome sizes split by subgroup.\n",
    "# Here we have 'Birds', 'Fishes', 'Flatworms', 'Insects', 'Mammals', 'Reptiles' as our category names.\n",
    "# Let's density = True because each group may have a different number of observations\n",
    "# Fill in the ?'s with the correct syntax to make the plot\n",
    "\n",
    "bins = np.linspace(0, 3500, 50)\n",
    "plt.hist(?, bins, density = True, color = 'Blue', alpha = 0.5)\n",
    "plt.hist(?, bins, density = True, color = 'Red', alpha = 0.5)\n",
    "plt.hist(?, bins, density = True, color = 'Yellow', alpha = 0.5)\n",
    "plt.hist(?, bins, density = True, color = 'Black', alpha = 0.5)\n",
    "plt.hist(?, bins, density = True, color = 'Green', alpha = 0.5)\n",
    "plt.hist(?, bins, density = True, color = 'Orange', alpha = 0.5)\n",
    "\n",
    "\n",
    "plt.title('Pathogen genome sizes')\n",
    "plt.xlabel('Genome size (MB)')\n",
    "plt.ylabel('Density')\n",
    "plt.legend(['Birds', 'Fishes', 'Flatworms', 'Insects', 'Mammals', 'Reptiles'])\n",
    "plt.show()"
   ]
  },
  {
   "cell_type": "code",
   "execution_count": null,
   "metadata": {},
   "outputs": [],
   "source": [
    "# Make a scatter plot of the number of genes (Y-axis) vs genome size (X-axis) in animals\n",
    "plt.scatter(?, ?)\n",
    "plt.title('Number of genes vs genome size in animals')\n",
    "plt.xlabel('Genome size (MB)')\n",
    "plt.ylabel('Number of genes')\n",
    "plt.show()"
   ]
  },
  {
   "cell_type": "code",
   "execution_count": null,
   "metadata": {},
   "outputs": [],
   "source": [
    "# Print correlations\n",
    "print(?, ?)"
   ]
  },
  {
   "cell_type": "code",
   "execution_count": null,
   "metadata": {},
   "outputs": [],
   "source": [
    "# Make scatterplot of the number of proteins vs number of genes in animals\n",
    "# Print correlations\n",
    "\n",
    "plt.scatter(?, ?)\n",
    "plt.title('Number of proteins vs number of genes in animals')\n",
    "plt.xlabel('Number of genes')\n",
    "plt.ylabel('Number of proteins')\n",
    "plt.show()\n",
    "\n",
    "print(?, ?)"
   ]
  },
  {
   "cell_type": "code",
   "execution_count": null,
   "metadata": {},
   "outputs": [],
   "source": [
    "# Table of summary statistics (name it animal_summary)\n",
    "\n",
    "animal_summary = ?\n",
    "\n",
    "animal_summary"
   ]
  },
  {
   "cell_type": "markdown",
   "metadata": {},
   "source": [
    "## To submit"
   ]
  },
  {
   "cell_type": "code",
   "execution_count": 9,
   "metadata": {},
   "outputs": [],
   "source": [
    "ok = Notebook('Lab01_EDA.ok')\n",
    "_ = ok.auth(inline = True)"
   ]
  },
  {
   "cell_type": "code",
   "execution_count": null,
   "metadata": {},
   "outputs": [],
   "source": [
    "# Submit the assignment.\n",
    "_ = ok.submit()"
   ]
  }
 ],
 "metadata": {
  "kernelspec": {
   "display_name": "Python 3",
   "language": "python",
   "name": "python3"
  },
  "language_info": {
   "codemirror_mode": {
    "name": "ipython",
    "version": 3
   },
   "file_extension": ".py",
   "mimetype": "text/x-python",
   "name": "python",
   "nbconvert_exporter": "python",
   "pygments_lexer": "ipython3",
   "version": "3.7.3"
  }
 },
 "nbformat": 4,
 "nbformat_minor": 2
}
