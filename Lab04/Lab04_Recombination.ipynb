{
 "cells": [
  {
   "cell_type": "markdown",
   "metadata": {},
   "source": [
    "# Exploring recombination through simulations\n",
    "### by Jonathan Fischer"
   ]
  },
  {
   "cell_type": "code",
   "execution_count": null,
   "metadata": {},
   "outputs": [],
   "source": [
    "from datascience import *\n",
    "import numpy as np\n",
    "import random\n",
    "import matplotlib\n",
    "%matplotlib inline\n",
    "import matplotlib.pyplot as plt\n",
    "from client.api.notebook import Notebook\n",
    "\n",
    "# You don't need to edit anything in this cell!\n",
    "\n",
    "# Here's a function that makes sequences for a set number of individuals and 2 populations. This function takes \n",
    "# the number of individuals, identity of individuals which are in population 2, and length of the sequence and \n",
    "# returns a list of arrays containing each individual's chromosome pairs.\n",
    "\n",
    "def seq_maker(n_individuals, pop_2_indices, l = 1000):\n",
    "    # Create sequences for populations\n",
    "    pop_1 = '1' * l\n",
    "    pop_2 = '2' * l\n",
    "    # Intialize list to store individuals\n",
    "    ind_list = list()\n",
    "    # Give individual sequence from appropriate population\n",
    "    for i in np.arange(n_individuals):\n",
    "        if i in pop_2_indices:\n",
    "            ind_list.append(make_array(pop_2, pop_2))\n",
    "        else:\n",
    "            ind_list.append(make_array(pop_1, pop_1))\n",
    "    return(ind_list)\n",
    "\n",
    "# Here's a function that plots \"painted\" chromosomes for two populations.\n",
    "# The input is a length 2 array containing a pair of chromosome sequences.\n",
    "\n",
    "def paint_chroms(chroms):\n",
    "    # Function that produces a visualization of chromosomes.\n",
    "    # pop 1 - blue, pop 2 - red\n",
    "    l = len(chroms[0])\n",
    "    color_1 = list()\n",
    "    for i in chroms[0]:\n",
    "        if i == '1':\n",
    "            color_1.append('blue')\n",
    "        elif i == '2':\n",
    "            color_1.append('red')\n",
    "    color_2 = list()\n",
    "    for i in chroms[1]:\n",
    "        if i == '1':\n",
    "            color_2.append('blue')\n",
    "        elif i == '2':\n",
    "            color_2.append('red')\n",
    "    plt.scatter(np.arange(l), [1]*l, color = color_1)\n",
    "    plt.scatter(np.arange(l), [-1]*l, color = color_2)\n",
    "    plt.ylim(-2, 2)\n",
    "    plt.show()"
   ]
  },
  {
   "cell_type": "markdown",
   "metadata": {},
   "source": [
    "## A function to simulate a basic model of recombination"
   ]
  },
  {
   "cell_type": "code",
   "execution_count": null,
   "metadata": {},
   "outputs": [],
   "source": [
    "# Complete the function function that simulates the recombination of two chromosomes. \n",
    "\n",
    "seq1 = 'A'*1000\n",
    "seq2 = 'B'*1000\n",
    "\n",
    "def recombine(seq1, seq2, r = 8):\n",
    "    # Get the length of the sequences and make sure they match\n",
    "    l1 = len(seq1)\n",
    "    l2 = ?\n",
    "    if ?:\n",
    "        # Sample the number of recombination points\n",
    "        n_sites = np.random.poisson(lam = ?) + 1\n",
    "        # Sample the recombination point coordinates\n",
    "        sites = random.sample(list(np.arange(?, ?)), ?)\n",
    "        sites = np.r_[0, np.sort(?), l1-1]\n",
    "        l_s = len(sites)\n",
    "        # Initialize the outputs\n",
    "        out1 = ''\n",
    "        out2 = ''\n",
    "        # Iterate through the coordinates and fill in the outputs\n",
    "        for i in np.arange(?):\n",
    "            if i % 2 == 0:\n",
    "                out1 += seq1[sites[i]:sites[i+1]]\n",
    "                out2 += seq2[sites[i]:sites[i+1]]\n",
    "            elif ?:\n",
    "                out1 += ?\n",
    "                out2 += ?\n",
    "        return(make_array(out1, out2))\n",
    "    else:\n",
    "        return(\"Sequence lengths don't match\")\n",
    "    \n",
    "seq1 = 'A'*100 + 'B'*100\n",
    "seq2 = 'A'*100 + 'A'*100\n",
    "   \n",
    "recombine(seq1, seq2)\n"
   ]
  },
  {
   "cell_type": "markdown",
   "metadata": {},
   "source": [
    "## Simulating inheritance from grandparents"
   ]
  },
  {
   "cell_type": "code",
   "execution_count": null,
   "metadata": {},
   "outputs": [],
   "source": [
    "# Complete the function named inherited_chroms which takes two arrays of two chromosomes as arguments and yields\n",
    "# a pair of chromosomes that are obtained via recombination. Output should be an array of length two which\n",
    "# contains the two chromosomes.\n",
    "\n",
    "def inherited_chroms(parent1, parent2):\n",
    "    p1 = recombine(parent1[0], ?)\n",
    "    p2 = recombine(?, ?)\n",
    "    \n",
    "    to_inherit = random.choices([0,1], k = 2)\n",
    "    child_seqs = make_array(p1[to_inherit[?]], ?[?[?]])\n",
    "    return(child_seqs)\n",
    "\n",
    "# Write a function that models recombination from grandparents. The input should be a list of length-2 arrays,\n",
    "# each of which contains a pair of chromosomes.\n",
    "\n",
    "def grandparents_recomb(gp_list):\n",
    "    parent_1 = inherited_chroms(gp_list[0], gp_list[1])\n",
    "    parent_2 = ?\n",
    "    child = ?\n",
    "    return(child)"
   ]
  },
  {
   "cell_type": "code",
   "execution_count": null,
   "metadata": {},
   "outputs": [],
   "source": [
    "# Example of the grandchild's chromosomes\n",
    "gp_list = seq_maker(4, [0])\n",
    "gc_1 = grandparents_recomb(?)\n",
    "paint_chroms(gc_1)"
   ]
  },
  {
   "cell_type": "markdown",
   "metadata": {},
   "source": [
    "## What about great-grandparents?"
   ]
  },
  {
   "cell_type": "code",
   "execution_count": null,
   "metadata": {},
   "outputs": [],
   "source": [
    "# Model recombination from great-grandparents. Inputs are two lists of chromosomes from grandparents.\n",
    "\n",
    "def greatgrandparents_recomb(gp_list_1, gp_list_2):\n",
    "    c_1 = grandparents_recomb(gp_list_1)\n",
    "    c_2 = ?\n",
    "    gc_1 = ?\n",
    "    return(gc_1)"
   ]
  },
  {
   "cell_type": "code",
   "execution_count": null,
   "metadata": {},
   "outputs": [],
   "source": [
    "# Generate sequences for grandparents and great-grandparents\n",
    "gp_list_1 = seq_maker(4, [0])\n",
    "gp_list_2 = seq_maker(4, [])\n",
    "\n",
    "# Example of the great-grandchild's chromosomes\n",
    "ggc_1 = greatgrandparents_recomb(?, ?)\n",
    "paint_chroms(ggc_1)"
   ]
  },
  {
   "cell_type": "markdown",
   "metadata": {},
   "source": [
    "## How do things change with different ancestries?"
   ]
  },
  {
   "cell_type": "code",
   "execution_count": null,
   "metadata": {},
   "outputs": [],
   "source": [
    "# After completing the previous code, run this cell to compare properties of genetic sequences \n",
    "# obtained by starting with 1/4 ancestry from a separate subpopulation, either at the great-grandparent (2/8)\n",
    "# or grandparent (1/4) levels\n",
    "\n",
    "# You don't need to edit anything in this cell!\n",
    "\n",
    "def recomb_summary(chroms):\n",
    "    ct = 0\n",
    "    pts = 0\n",
    "    for x in chroms:\n",
    "        j = x[0]\n",
    "        for i in x:\n",
    "            ct += (i == '2')\n",
    "            pts += (i != j)\n",
    "            j = i\n",
    "    return([.5*ct/len(chroms[0]), pts])\n",
    "\n",
    "# Make sure the ancestry proportions are the same but occur at different generations.\n",
    "gp_list = seq_maker(4, [0])\n",
    "gp_list_1 = seq_maker(4, [0,2])\n",
    "gp_list_2 = seq_maker(4, [])\n",
    "\n",
    "summary_mat = np.zeros((1000,4))\n",
    "for i in np.arange(1000):\n",
    "    r_gp = recomb_summary(grandparents_recomb(gp_list))\n",
    "    r_ggp = recomb_summary(greatgrandparents_recomb(gp_list_1, gp_list_2))\n",
    "    summary_mat[i, 0] = r_gp[0]\n",
    "    summary_mat[i, 1] = r_ggp[0]\n",
    "    summary_mat[i, 2] = r_gp[1]\n",
    "    summary_mat[i, 3] = r_ggp[1]\n",
    "    \n",
    "# Plot how much ancestry is inherited from Pop 2 for the two settings (admixture at grandparents or great-grandparents)\n",
    "plt.hist(summary_mat[:,0], alpha = 0.5, density = True, bins = 20)\n",
    "plt.hist(summary_mat[:,1], alpha = 0.5, density = True, bins = 20)\n",
    "plt.legend(['n_gen = 2', 'n_gen = 3'])\n",
    "plt.xlabel('Proportion')\n",
    "plt.ylabel('Density')\n",
    "plt.title('Proportion of sequence inherited from Pop 2')\n",
    "plt.show()\n",
    "\n",
    "# Plot number of switches between populations for the two settings (admixture at grandparents or great-grandparents)\n",
    "plt.hist(summary_mat[:,2], alpha = 0.5, density = True, bins = 15)\n",
    "plt.hist(summary_mat[:,3], alpha = 0.5, density = True, bins = 20)\n",
    "plt.legend(['n_gen = 2', 'n_gen = 3'])\n",
    "plt.xlabel('Count')\n",
    "plt.ylabel('Density')\n",
    "plt.title('Number of switches between populations')\n",
    "plt.show()"
   ]
  },
  {
   "cell_type": "markdown",
   "metadata": {},
   "source": [
    "## What do you notice about the histograms in each respective plot? Does this make sense? Explain."
   ]
  },
  {
   "cell_type": "markdown",
   "metadata": {},
   "source": [
    "## To submit"
   ]
  },
  {
   "cell_type": "code",
   "execution_count": null,
   "metadata": {},
   "outputs": [],
   "source": [
    "ok = Notebook('Lab04_Recombination.ok')\n",
    "_ = ok.auth(inline=True)"
   ]
  },
  {
   "cell_type": "code",
   "execution_count": null,
   "metadata": {},
   "outputs": [],
   "source": [
    "# Submit the assignment.\n",
    "_ = ok.submit()"
   ]
  }
 ],
 "metadata": {
  "kernelspec": {
   "display_name": "Python 3",
   "language": "python",
   "name": "python3"
  },
  "language_info": {
   "codemirror_mode": {
    "name": "ipython",
    "version": 3
   },
   "file_extension": ".py",
   "mimetype": "text/x-python",
   "name": "python",
   "nbconvert_exporter": "python",
   "pygments_lexer": "ipython3",
   "version": "3.7.3"
  }
 },
 "nbformat": 4,
 "nbformat_minor": 2
}
