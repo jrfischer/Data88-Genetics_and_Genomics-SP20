{
 "cells": [
  {
   "cell_type": "markdown",
   "metadata": {},
   "source": [
    "# Data cleaning and pre-processing\n",
    "### by Jonathan Fischer and Sasha Yousefi"
   ]
  },
  {
   "cell_type": "code",
   "execution_count": null,
   "metadata": {},
   "outputs": [],
   "source": [
    "# Load the necessary modules\n",
    "from datascience import *\n",
    "import numpy as np\n",
    "import matplotlib\n",
    "%matplotlib inline\n",
    "import matplotlib.pyplot as plt\n",
    "import scipy.stats as stats\n",
    "plt.style.use('fivethirtyeight')\n",
    "import pandas as pd\n",
    "import sklearn\n",
    "from sklearn.preprocessing import StandardScaler\n",
    "from sklearn.decomposition import PCA\n",
    "from sklearn.preprocessing import scale\n",
    "from client.api.notebook import Notebook"
   ]
  },
  {
   "cell_type": "markdown",
   "metadata": {},
   "source": [
    "## Normalization"
   ]
  },
  {
   "cell_type": "markdown",
   "metadata": {},
   "source": [
    "### Raw data"
   ]
  },
  {
   "cell_type": "code",
   "execution_count": null,
   "metadata": {},
   "outputs": [],
   "source": [
    "# Load data using pd.read_csv('file_name', sep = ' ')\n",
    "# matrix should be 5000 genes x 20 samples\n",
    "\n",
    "raw_data = pd.read_csv('https://raw.githubusercontent.com/ds-connectors/Data88-Genetics_and_Genomics/master/Lab02/data_norm.csv', sep = ' ')"
   ]
  },
  {
   "cell_type": "markdown",
   "metadata": {},
   "source": [
    "Let's say the first 10 columns are samples from healthy patients and the last ten from patients with an illness. We can assume that samples from the same condition should be similar to one another. To start, we can see whether they have similar numbers of total reads."
   ]
  },
  {
   "cell_type": "code",
   "execution_count": null,
   "metadata": {},
   "outputs": [],
   "source": [
    "# First, take the sum of each column. np.sum(df) does this by default for a data frame df\n",
    "total_counts = ?\n",
    "\n",
    "# Make a barplot of the total number of reads in each sample for the healthy patients to investigate whether\n",
    "# they have similar numbers of total reads.\n",
    "# To the right of each line there is a #. Please fill in with what you think each line of the code does\n",
    "\n",
    "bars = list(raw_data.columns)                    #  ?\n",
    "y_pos = np.arange(len(bars))                     #  ?\n",
    "col_list = ['Black']*10 + ['Red']*10             #  ?\n",
    "\n",
    "plt.figure(figsize=(12,6))                       #  ?\n",
    "plt.bar(y_pos, total_counts, color = col_list)   #  ?\n",
    "plt.xticks(y_pos, bars)                          #  ?\n",
    "plt.title('Without normalization')               #  ?\n",
    "plt.xlabel('Sample')                             #  ?\n",
    "plt.ylabel('Total reads')                        #  ? \n",
    "plt.show()                                       #  ?"
   ]
  },
  {
   "cell_type": "markdown",
   "metadata": {},
   "source": [
    "Let's see the effect of not normalizing on our ability to characterize differences in the gene expression profiles of healthy and sick patients. Since I created these, I can tell you that the overall median FC should be around 0."
   ]
  },
  {
   "cell_type": "code",
   "execution_count": null,
   "metadata": {},
   "outputs": [],
   "source": [
    "# First, compute the mean of each gene within healthy and sick individuals\n",
    "healthy_means_raw = np.mean(raw_data.iloc[:,0:10], axis = 1)\n",
    "sick_means_raw = ?          # now repeat for the \"sick\" individuals in columns 11-20"
   ]
  },
  {
   "cell_type": "code",
   "execution_count": null,
   "metadata": {},
   "outputs": [],
   "source": [
    "# Now that we have a single vector for each condition, make a histogram of the log2 fold changes between them\n",
    "# Remember to add 1 before taking the log, e.g. np.log2(x+1)\n",
    "# We'll eventually compare this to what we get after normalization\n",
    "\n",
    "raw_fc = ?         # take the difference between sick_means_raw and healthy_means_raw after taking their logs\n",
    "\n",
    "plt.hist(raw_fc, bins = ?, density = True)   # we make a histogram with plt.hist. Set bins = 100 to get a nice figure\n",
    "plt.title('Without normalization') \n",
    "plt.xlabel('Log2 Fold Changes')\n",
    "plt.ylabel('Density')\n",
    "plt.show()"
   ]
  },
  {
   "cell_type": "markdown",
   "metadata": {},
   "source": [
    "### Transcripts per Million"
   ]
  },
  {
   "cell_type": "markdown",
   "metadata": {},
   "source": [
    "A common normalization is to divide by some scaling factor which is proportional to the total number of reads in a sample. This has fallen out of favor a bit, and we'll see why."
   ]
  },
  {
   "cell_type": "code",
   "execution_count": null,
   "metadata": {},
   "outputs": [],
   "source": [
    "# Normalize the data using the Transcripts per Million (TPM) approach. \n",
    "# That is, divide each column by its sum and multiply by one million\n",
    "# In this case, the division operator works column-wise on the df, so try df / total_counts * 1e6\n",
    "\n",
    "TPM_data = ?"
   ]
  },
  {
   "cell_type": "code",
   "execution_count": null,
   "metadata": {},
   "outputs": [],
   "source": [
    "# Repeat the histogram by taking means and displaying the log2 FCs between conditions after TPM normalization\n",
    "healthy_means_TPM = ?\n",
    "sick_means_TPM = ?\n",
    "\n",
    "# Now that we have a single vector for each condition, make a histogram of the log2 fold changes between them\n",
    "# We'll eventually compare this to what we get after normalization\n",
    "TPM_fc = ?\n",
    "\n",
    "# make histogram\n",
    "# here:\n",
    "\n",
    "??\n",
    "\n",
    "plt.title('After TPM normalization') \n",
    "plt.xlabel('Log2 Fold Changes')\n",
    "plt.ylabel('Density')\n",
    "plt.show()"
   ]
  },
  {
   "cell_type": "markdown",
   "metadata": {},
   "source": [
    "### Median normalization"
   ]
  },
  {
   "cell_type": "markdown",
   "metadata": {},
   "source": [
    "An alternative normalization is to use a scaling factor which is proportional to the median value in a sample. This avoids some of the pitfalls of TPM, though more sophisticated methods are usually better."
   ]
  },
  {
   "cell_type": "code",
   "execution_count": null,
   "metadata": {},
   "outputs": [],
   "source": [
    "# Normalize the data my dividing each column by its median and then multiplying by 1000\n",
    "# to get the column medians, try df.median()\n",
    "medians = ?\n",
    "MN_data = ?"
   ]
  },
  {
   "cell_type": "code",
   "execution_count": null,
   "metadata": {},
   "outputs": [],
   "source": [
    "# Repeat the histogram by taking means and displaying the log2 FCs between conditions after median normalization\n",
    "healthy_means_MN = ?\n",
    "sick_means_MN = ?\n",
    "\n",
    "# Now that we have a single vector for each condition, make a histogram of the log2 fold changes between them\n",
    "# We'll eventually compare this to what we get after normalization\n",
    "MN_fc = ?\n",
    "\n",
    "# make histogram\n",
    "# here:\n",
    "\n",
    "??\n",
    "\n",
    "plt.title('After median normalization') \n",
    "plt.xlabel('Log2 Fold Changes')\n",
    "plt.ylabel('Density')\n",
    "plt.show()"
   ]
  },
  {
   "cell_type": "markdown",
   "metadata": {},
   "source": [
    "## Outliers"
   ]
  },
  {
   "cell_type": "code",
   "execution_count": null,
   "metadata": {},
   "outputs": [],
   "source": [
    "# Load outlier data. Here we're initally assuming columns 1-10 are condition 1 and 11-25 are condition 2\n",
    "outlier_table = pd.read_csv('https://raw.githubusercontent.com/ds-connectors/Data88-Genetics_and_Genomics/master/Lab02/data_outlier.csv', sep = ' ')"
   ]
  },
  {
   "cell_type": "code",
   "execution_count": null,
   "metadata": {},
   "outputs": [],
   "source": [
    "# Compute number of genes with log2 FC >= 1 b/w conditions and plot a histogram of the log2 FCs\n",
    "cond1_means = ?\n",
    "cond2_means = ?\n",
    "\n",
    "outlier_fc = ?\n",
    "\n",
    "# We can sum booleans, or True/False values, to count how many are True. \n",
    "DE_1 = np.sum(outlier_fc >= 1)\n",
    "\n",
    "# Make histogram\n",
    "# here: \n",
    "??\n",
    "\n",
    "plt.title('Without outlier detection') \n",
    "plt.xlabel('Log2 Fold Changes')\n",
    "plt.ylabel('Density')\n",
    "plt.show()"
   ]
  },
  {
   "cell_type": "code",
   "execution_count": null,
   "metadata": {},
   "outputs": [],
   "source": [
    "# Run PCA and put the top PCs into a data frame\n",
    "x = np.log2(outlier_table+1)\n",
    "x = StandardScaler().fit_transform(x.transpose())\n",
    "pca = PCA(n_components=5)\n",
    "principalComponents = pca.fit_transform(x)\n",
    "principalDf = pd.DataFrame(data = principalComponents\n",
    "             , columns = ['PC1', 'PC2', 'PC3', 'PC4', 'PC5'])"
   ]
  },
  {
   "cell_type": "code",
   "execution_count": null,
   "metadata": {},
   "outputs": [],
   "source": [
    "# Plot results of PCA and look for outliers\n",
    "col_list = ['Black']*10 + ['Red']*15\n",
    "plt.scatter(principalDf['PC1'], principalDf['PC2'], color = col_list)\n",
    "plt.xlabel('PC 1')\n",
    "plt.ylabel('PC 2')\n",
    "plt.show()"
   ]
  },
  {
   "cell_type": "code",
   "execution_count": null,
   "metadata": {},
   "outputs": [],
   "source": [
    "# Remove outliers. Now how many genes have abs log2 FC >= 1?\n",
    "to_keep = principalDf['PC1'] < 0\n",
    "\n",
    "to_keep.index = list(outlier_table.columns)\n",
    "outlier_clean = outlier_table.loc[:,to_keep]\n",
    "\n",
    "# Compute number of genes with log2 FC >= 1 b/w conditions and plot a histogram of the log2 FCs\n",
    "cond1_means_corrected = ?\n",
    "cond2_means_corrected = ?\n",
    "\n",
    "outlier_corrected_fc = ?\n",
    "DE_2 = ?\n",
    "\n",
    "# make histogram\n",
    "# here:\n",
    "\n",
    "??\n",
    "\n",
    "plt.title('With outlier detection') \n",
    "plt.xlabel('Log2 Fold Changes')\n",
    "plt.ylabel('Density')\n",
    "plt.show()"
   ]
  },
  {
   "cell_type": "markdown",
   "metadata": {},
   "source": [
    "## Confounders"
   ]
  },
  {
   "cell_type": "code",
   "execution_count": null,
   "metadata": {},
   "outputs": [],
   "source": [
    "# Load data and metadata for confounders\n",
    "confounder_data = pd.read_csv('https://raw.githubusercontent.com/ds-connectors/Data88-Genetics_and_Genomics/master/Lab02/data_confounders.csv', sep = ' ', header = None)\n",
    "confounder_meta = pd.read_csv('https://raw.githubusercontent.com/ds-connectors/Data88-Genetics_and_Genomics/master/Lab02/confounder_meta.csv', sep = ' ', header = None)"
   ]
  },
  {
   "cell_type": "code",
   "execution_count": null,
   "metadata": {},
   "outputs": [],
   "source": [
    "# Estimate FCs between age groups ('Young' and 'Lld')\n",
    "young_ind = confounder_meta.iloc[1,:] == 'Young'\n",
    "old_ind = ?\n",
    "\n",
    "young_mean = ?\n",
    "old_mean = ?\n",
    "\n",
    "age_fcs = ?\n",
    "\n",
    "# make histogram\n",
    "# here:\n",
    "\n",
    "plt.title('Old vs Young') \n",
    "plt.xlabel('Log2 Fold Changes')\n",
    "plt.ylabel('Density')\n",
    "plt.show()"
   ]
  },
  {
   "cell_type": "code",
   "execution_count": null,
   "metadata": {},
   "outputs": [],
   "source": [
    "# Compute FCs between age groups w/in each gender\n",
    "ym_boolean = (confounder_meta.iloc[1,:] == 'Young') & (confounder_meta.iloc[0,:] == 'Male')\n",
    "yf_boolean = ?\n",
    "om_boolean = ?\n",
    "of_boolean = ?\n",
    "\n",
    "ym_mean = np.mean(confounder_data.loc[:, ym_boolean], axis = 1)\n",
    "yf_mean = ?\n",
    "om_mean = ?\n",
    "of_mean = ?\n",
    "\n",
    "# Old minus Young\n",
    "male_age_fcs = ?\n",
    "female_age_fcs = ?"
   ]
  },
  {
   "cell_type": "code",
   "execution_count": null,
   "metadata": {},
   "outputs": [],
   "source": [
    "# Construct a 2x2 table of the metadata frequencies \n",
    "# (young/old vs male/female)\n",
    "\n",
    "n_ym = np.sum(ym_boolean)\n",
    "n_yf = ?\n",
    "n_om = ?\n",
    "n_of = ?\n",
    "\n",
    "# Recall syntax to make a table\n",
    "#new_table = Table().with_columns([\n",
    "#    '', ['Colname1', 'Colname2'],\n",
    "#    'Rowname1', [val11, val12],\n",
    "#    'Rowname2', [val21, val22],\n",
    "#])\n",
    "\n",
    "metadata_table = ?"
   ]
  },
  {
   "cell_type": "code",
   "execution_count": null,
   "metadata": {
    "scrolled": true
   },
   "outputs": [],
   "source": [
    "# Load true age-related FCs (age_fc.txt)\n",
    "age_fc_true = np.log2(pd.read_csv('https://raw.githubusercontent.com/ds-connectors/Data88-Genetics_and_Genomics/master/Lab02/age_fc.csv', sep = ' ', header = None))"
   ]
  },
  {
   "cell_type": "code",
   "execution_count": null,
   "metadata": {},
   "outputs": [],
   "source": [
    "# Make plot of estiamted FCs for each cohort \n",
    "# (all, just men, just women) vs truth (put on same plot)\n",
    "\n",
    "plt.scatter(?, ?, color = 'black')\n",
    "plt.scatter(?, ?, color = 'blue')\n",
    "plt.scatter(?, ?, color = 'red')\n",
    "\n",
    "plt.title('Effect of Controlling for Confounders') \n",
    "plt.xlabel('True FCs')\n",
    "plt.ylabel('Estimated FCs')\n",
    "plt.legend(['Joint', 'Male', 'Female'])\n",
    "\n",
    "plt.show()"
   ]
  },
  {
   "cell_type": "markdown",
   "metadata": {},
   "source": [
    "# Putting it all together with real data"
   ]
  },
  {
   "cell_type": "markdown",
   "metadata": {},
   "source": [
    "We'll now work with real RNA-seq samples primarily drawn from mammary tissue. However, there are also several samples which are actually blood and would negatively impact the analysis. Metadata is provided which tells whether a sample comes from a male/female and young/old donor. All data come from the GTEx consortium."
   ]
  },
  {
   "cell_type": "code",
   "execution_count": null,
   "metadata": {},
   "outputs": [],
   "source": [
    "# Load raw data from GTEx. Will take a few seconds\n",
    "GTEx_data = pd.read_csv('https://raw.githubusercontent.com/ds-connectors/Data88-Genetics_and_Genomics/master/Lab02/GTEX_raw_mammary_blood.csv', sep = ' ')"
   ]
  },
  {
   "cell_type": "markdown",
   "metadata": {},
   "source": [
    "1) Compute the sum of total reads per sample. Remember to not include the index column when calculating (the last column). Then answer the question, will we need to normalize?"
   ]
  },
  {
   "cell_type": "code",
   "execution_count": null,
   "metadata": {},
   "outputs": [],
   "source": [
    "# Compute sum of reads\n",
    "GTEx_TC = ?\n",
    "\n",
    "# Make a barplot of the total number of reads\n",
    "y_pos = np.arange(len(GTEx_TC))\n",
    "plt.figure(figsize=(12,6))\n",
    "plt.bar(? , ?)      # Fill in the missing places\n",
    "plt.title('GTEx data without normalization') \n",
    "plt.xlabel('Sample')\n",
    "plt.ylabel('Total reads')\n",
    "plt.show()"
   ]
  },
  {
   "cell_type": "markdown",
   "metadata": {},
   "source": [
    "2) Filter out lowly expressed genes (genes where the means across all patients is < 100 reads)."
   ]
  },
  {
   "cell_type": "code",
   "execution_count": null,
   "metadata": {},
   "outputs": [],
   "source": [
    "# Filter out lowly expressed genes (mean across samples <= 100)\n",
    "\n",
    "GTEx_means = ?\n",
    "sufficient_reads = ?\n",
    "GTEx_filtered = GTEx_data.loc[sufficient_reads,:]"
   ]
  },
  {
   "cell_type": "markdown",
   "metadata": {},
   "source": [
    "3)  PCA to identify blood samples"
   ]
  },
  {
   "cell_type": "code",
   "execution_count": null,
   "metadata": {},
   "outputs": [],
   "source": [
    "# PCA to identify outliers\n",
    "\n",
    "# Run PCA and put the top PCs into a data frame\n",
    "x = np.log2(GTEx_filtered+1)\n",
    "x = StandardScaler().fit_transform(x.transpose())\n",
    "pca = PCA(n_components=5)\n",
    "principalComponents = pca.fit_transform(x)\n",
    "principalDf = pd.DataFrame(data = principalComponents\n",
    "             , columns = ['PC1', 'PC2', 'PC3', 'PC4', 'PC5'])"
   ]
  },
  {
   "cell_type": "code",
   "execution_count": null,
   "metadata": {},
   "outputs": [],
   "source": [
    "# Plot results of PCA and look for outliers\n",
    "plt.scatter(principalDf['PC1'], principalDf['PC2'])\n",
    "plt.xlabel('PC 1')\n",
    "plt.ylabel('PC 2')\n",
    "plt.show()"
   ]
  },
  {
   "cell_type": "markdown",
   "metadata": {},
   "source": [
    "4) Remove outliers"
   ]
  },
  {
   "cell_type": "code",
   "execution_count": null,
   "metadata": {},
   "outputs": [],
   "source": [
    "# Drop outliers\n",
    "to_keep = ?\n",
    "\n",
    "to_keep.index = list(GTEx_filtered.columns)\n",
    "GTEx_clean = GTEx_filtered.loc[:,to_keep]"
   ]
  },
  {
   "cell_type": "markdown",
   "metadata": {},
   "source": [
    "5) Median normalization"
   ]
  },
  {
   "cell_type": "code",
   "execution_count": null,
   "metadata": {},
   "outputs": [],
   "source": [
    "# Normalize data using median approach\n",
    "\n",
    "medians = ?\n",
    "GTEx_MN = ?"
   ]
  },
  {
   "cell_type": "markdown",
   "metadata": {},
   "source": [
    "6) Load metadata"
   ]
  },
  {
   "cell_type": "code",
   "execution_count": null,
   "metadata": {},
   "outputs": [],
   "source": [
    "# Load metadata and label features\n",
    "GTEx_meta = pd.read_csv('https://raw.githubusercontent.com/ds-connectors/Data88-Genetics_and_Genomics/master/Lab02/GTEX_mammary_meta.csv', sep = ' ', header = None)\n",
    "GTEx_meta.index = ['Gender', 'Age']"
   ]
  },
  {
   "cell_type": "markdown",
   "metadata": {},
   "source": [
    "7) PCA, color points by gender"
   ]
  },
  {
   "cell_type": "code",
   "execution_count": null,
   "metadata": {},
   "outputs": [],
   "source": [
    "# Run PCA and plot\n",
    "x = np.log2(GTEx_MN+1)\n",
    "x = StandardScaler().fit_transform(x.transpose())\n",
    "pca = PCA(n_components=5)\n",
    "principalComponents = pca.fit_transform(x)\n",
    "principalDf = pd.DataFrame(data = principalComponents\n",
    "             , columns = ['PC1', 'PC2', 'PC3', 'PC4', 'PC5'])\n",
    "\n",
    "male_ind = (GTEx_meta.iloc[0,:] == 1)\n",
    "female_ind = \n",
    "\n",
    "plt.scatter(principalDf['PC1'][male_ind], principalDf['PC2'][male_ind], color = 'Blue')\n",
    "plt.scatter( ?, ?, color = 'Red')     # fill in missing entries\n",
    "plt.xlabel('PC 1')\n",
    "plt.ylabel('PC 2')\n",
    "plt.legend(['Male', 'Female'])\n",
    "plt.show()"
   ]
  },
  {
   "cell_type": "markdown",
   "metadata": {},
   "source": [
    "8) Split np.log2(GTEx_MN+1) into tables for young and old women"
   ]
  },
  {
   "cell_type": "code",
   "execution_count": null,
   "metadata": {},
   "outputs": [],
   "source": [
    "x = np.log2(GTEx_MN+1)\n",
    "\n",
    "yw_ind = (GTEx_meta.iloc[0,:] == 2) & (GTEx_meta.iloc[1,:] <= 50)\n",
    "ow_ind = ?\n",
    "\n",
    "yw_ind.index = list(x.columns)\n",
    "ow_ind.index = list(x.columns)\n",
    "\n",
    "GTEx_yw = np.log2(GTEx_MN+1).loc[:,yw_ind]\n",
    "GTEx_ow = ?"
   ]
  },
  {
   "cell_type": "markdown",
   "metadata": {},
   "source": [
    "9) Compute FCs between old (>50) and young (<= 50) women and make a histogram"
   ]
  },
  {
   "cell_type": "code",
   "execution_count": null,
   "metadata": {},
   "outputs": [],
   "source": [
    "age_fc_women = ?\n",
    "\n",
    "# make a histogram\n",
    "# here:\n",
    "\n",
    "?\n",
    "\n",
    "plt.xlabel('Log2 FC')\n",
    "plt.ylabel('Density')\n",
    "plt.title('Old vs young women, mammary tissue')\n",
    "plt.show()"
   ]
  },
  {
   "cell_type": "markdown",
   "metadata": {},
   "source": [
    "# To submit"
   ]
  },
  {
   "cell_type": "code",
   "execution_count": null,
   "metadata": {},
   "outputs": [],
   "source": [
    "ok = Notebook('Lab02_Data_Cleaning.ok')\n",
    "_ = ok.auth(inline=True)"
   ]
  },
  {
   "cell_type": "code",
   "execution_count": null,
   "metadata": {},
   "outputs": [],
   "source": [
    "# Submit the assignment.\n",
    "_ = ok.submit()"
   ]
  }
 ],
 "metadata": {
  "kernelspec": {
   "display_name": "Python 3",
   "language": "python",
   "name": "python3"
  },
  "language_info": {
   "codemirror_mode": {
    "name": "ipython",
    "version": 3
   },
   "file_extension": ".py",
   "mimetype": "text/x-python",
   "name": "python",
   "nbconvert_exporter": "python",
   "pygments_lexer": "ipython3",
   "version": "3.7.3"
  }
 },
 "nbformat": 4,
 "nbformat_minor": 2
}
